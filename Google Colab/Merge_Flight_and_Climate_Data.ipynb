{
  "nbformat": 4,
  "nbformat_minor": 0,
  "metadata": {
    "colab": {
      "provenance": [],
      "authorship_tag": "ABX9TyPqFp09ned0MQYfhdgeUW83",
      "include_colab_link": true
    },
    "kernelspec": {
      "name": "python3",
      "display_name": "Python 3"
    },
    "language_info": {
      "name": "python"
    }
  },
  "cells": [
    {
      "cell_type": "markdown",
      "metadata": {
        "id": "view-in-github",
        "colab_type": "text"
      },
      "source": [
        "<a href=\"https://colab.research.google.com/github/Rashimanish/USA-Flight-Prediction/blob/main/Google%20Colab/Merge_Flight_and_Climate_Data.ipynb\" target=\"_parent\"><img src=\"https://colab.research.google.com/assets/colab-badge.svg\" alt=\"Open In Colab\"/></a>"
      ]
    },
    {
      "cell_type": "code",
      "execution_count": null,
      "metadata": {
        "colab": {
          "base_uri": "https://localhost:8080/"
        },
        "id": "vXWGP7YL1HgW",
        "outputId": "e8404482-1412-46db-8894-1b9e253ea07c"
      },
      "outputs": [
        {
          "output_type": "stream",
          "name": "stdout",
          "text": [
            "Drive already mounted at /content/drive; to attempt to forcibly remount, call drive.mount(\"/content/drive\", force_remount=True).\n",
            "0    1/1/2024 12:00:00 AM\n",
            "1    1/1/2024 12:00:00 AM\n",
            "2    1/1/2024 12:00:00 AM\n",
            "3    1/1/2024 12:00:00 AM\n",
            "4    1/1/2024 12:00:00 AM\n",
            "Name: FL_DATE, dtype: object\n",
            "Number of rows: 466958\n",
            "Number of columns: 22\n",
            "      YEAR  QUARTER  MONTH  DAY_OF_MONTH     FL_DATE  ORIGIN_AIRPORT_ID  \\\n",
            "0     2024        1      1             1  01/01/2024              10397   \n",
            "1607  2024        1      1             1  01/01/2024              13303   \n",
            "1608  2024        1      1             1  01/01/2024              13303   \n",
            "1609  2024        1      1             1  01/01/2024              13303   \n",
            "1610  2024        1      1             1  01/01/2024              13303   \n",
            "\n",
            "     ORIGIN  DEST_AIRPORT_ID DEST  CRS_DEP_TIME  ...  DEP_DEL15  CRS_ARR_TIME  \\\n",
            "0       ATL            11057  CLT           700  ...        0.0           816   \n",
            "1607    MIA            10397  ATL          1110  ...        1.0          1315   \n",
            "1608    MIA            10397  ATL          1120  ...        0.0          1335   \n",
            "1609    MIA            10397  ATL          1159  ...        0.0          1359   \n",
            "1610    MIA            10397  ATL          1205  ...        1.0          1408   \n",
            "\n",
            "      ARR_TIME  ARR_DELAY_NEW  ARR_DEL15  Maximum temperature  \\\n",
            "0        758.0            0.0        0.0                 50.0   \n",
            "1607    1318.0            3.0        0.0                 73.0   \n",
            "1608    1305.0            0.0        0.0                 73.0   \n",
            "1609    1351.0            0.0        0.0                 73.0   \n",
            "1610    1422.0           14.0        0.0                 73.0   \n",
            "\n",
            "      Minimum temperature  Precipitation  Snowfall  Average wind speed  \n",
            "0                    34.0            0.0       0.0               10.96  \n",
            "1607                 52.0            0.0       0.0                2.01  \n",
            "1608                 52.0            0.0       0.0                2.01  \n",
            "1609                 52.0            0.0       0.0                2.01  \n",
            "1610                 52.0            0.0       0.0                2.01  \n",
            "\n",
            "[5 rows x 22 columns]\n"
          ]
        }
      ],
      "source": [
        "import pandas as pd\n",
        "from google.colab import drive\n",
        "\n",
        "# Mount Google Drive\n",
        "drive.mount('/content/drive')\n",
        "\n",
        "# Load flight data\n",
        "flight_data = pd.read_csv('/content/drive/My Drive/2024_FLIGHT/FLIGHT/flight_data_2024.csv')\n",
        "\n",
        "# Load climate data\n",
        "climate_data = pd.read_csv('/content/drive/My Drive/2024_FLIGHT/CLIMATE/climate_2024.csv')\n",
        "\n",
        "# Strip and convert to uppercase\n",
        "flight_data['ORIGIN'] = flight_data['ORIGIN'].str.strip().str.upper()\n",
        "climate_data['Airport_Code'] = climate_data['Airport_Code'].str.strip().str.upper()\n",
        "\n",
        "# Inspect the date format in flight_data\n",
        "print(flight_data['FL_DATE'].head())\n",
        "\n",
        "# Convert date columns to datetime first\n",
        "flight_data['FL_DATE'] = pd.to_datetime(flight_data['FL_DATE'], format='%m/%d/%Y %I:%M:%S %p')\n",
        "climate_data['DATE'] = pd.to_datetime(climate_data['DATE'], format='%Y-%m-%d')\n",
        "\n",
        "# Convert dates to the desired format %d/%m/%Y\n",
        "flight_data['FL_DATE'] = flight_data['FL_DATE'].dt.strftime('%d/%m/%Y')\n",
        "climate_data['DATE'] = climate_data['DATE'].dt.strftime('%d/%m/%Y')\n",
        "\n",
        "# Merge the datasets on the converted dates and Origin\n",
        "merged_data = pd.merge(flight_data, climate_data, left_on=['FL_DATE', 'ORIGIN'], right_on=['DATE', 'Airport_Code'], how='left')\n",
        "\n",
        "# Columns to keep\n",
        "columns_to_keep = [\n",
        "    'YEAR', 'QUARTER', 'MONTH', 'DAY_OF_MONTH', 'FL_DATE', 'ORIGIN_AIRPORT_ID', 'ORIGIN', 'DEST_AIRPORT_ID', 'DEST',\n",
        "    'CRS_DEP_TIME', 'DEP_TIME', 'DEP_DELAY_NEW', 'DEP_DEL15', 'CRS_ARR_TIME', 'ARR_TIME', 'ARR_DELAY_NEW', 'ARR_DEL15',\n",
        "    'Maximum temperature', 'Minimum temperature', 'Precipitation', 'Snowfall', 'Average wind speed'\n",
        "]\n",
        "\n",
        "# Select and sort the data\n",
        "final_data = merged_data[columns_to_keep]\n",
        "final_data = final_data.sort_values(by='FL_DATE')\n",
        "\n",
        "# Save the merged data\n",
        "output_file_path = '/content/drive/My Drive/2024_FLIGHT/FLIGHT/2024_09_07.csv'\n",
        "final_data.to_csv(output_file_path, index=False)\n",
        "\n",
        "print(f\"Number of rows: {final_data.shape[0]}\")\n",
        "print(f\"Number of columns: {final_data.shape[1]}\")\n",
        "print(final_data.head())\n"
      ]
    }
  ]
}